{
 "cells": [
  {
   "cell_type": "markdown",
   "id": "2f789299",
   "metadata": {},
   "source": [
    "# Week 21 Group Activity"
   ]
  },
  {
   "cell_type": "code",
   "execution_count": 1,
   "id": "649136a2",
   "metadata": {},
   "outputs": [],
   "source": [
    "# Dependencies and modules:\n",
    "\n",
    "import pandas as pd\n",
    "import numpy as np\n",
    "import statistics\n",
    "import math\n",
    "import requests\n",
    "import time\n",
    "import matplotlib.pyplot as plt\n",
    "import seaborn as sns\n",
    "import urllib\n",
    "import re"
   ]
  },
  {
   "cell_type": "markdown",
   "id": "4c98ec2b",
   "metadata": {},
   "source": [
    "## 1. Make sure you can get the API from class to work in Azure. Take a screenshot of it working and add the image to a jupyter notebook."
   ]
  },
  {
   "cell_type": "code",
   "execution_count": null,
   "id": "aa1d3e4b",
   "metadata": {},
   "outputs": [],
   "source": []
  },
  {
   "cell_type": "markdown",
   "id": "9e791ed0",
   "metadata": {},
   "source": [
    "## 2. Loop through the API data in python using the ``/gdp/<year>`` endpoint for your API. What does it look like? Is there a way to alter the html page to simplify what you see?"
   ]
  },
  {
   "cell_type": "code",
   "execution_count": null,
   "id": "7d63a437",
   "metadata": {},
   "outputs": [],
   "source": []
  },
  {
   "cell_type": "code",
   "execution_count": null,
   "id": "27a70add",
   "metadata": {},
   "outputs": [],
   "source": []
  },
  {
   "cell_type": "code",
   "execution_count": null,
   "id": "3cc50708",
   "metadata": {},
   "outputs": [],
   "source": []
  },
  {
   "cell_type": "code",
   "execution_count": null,
   "id": "861331fe",
   "metadata": {},
   "outputs": [],
   "source": []
  }
 ],
 "metadata": {
  "kernelspec": {
   "display_name": "Python 3 (ipykernel)",
   "language": "python",
   "name": "python3"
  },
  "language_info": {
   "codemirror_mode": {
    "name": "ipython",
    "version": 3
   },
   "file_extension": ".py",
   "mimetype": "text/x-python",
   "name": "python",
   "nbconvert_exporter": "python",
   "pygments_lexer": "ipython3",
   "version": "3.9.7"
  }
 },
 "nbformat": 4,
 "nbformat_minor": 5
}
