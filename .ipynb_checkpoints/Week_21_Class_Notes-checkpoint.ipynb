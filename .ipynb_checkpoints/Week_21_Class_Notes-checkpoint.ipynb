{
 "cells": [
  {
   "cell_type": "markdown",
   "id": "4777a536",
   "metadata": {},
   "source": [
    "# Week 21"
   ]
  },
  {
   "cell_type": "markdown",
   "id": "713e0f84",
   "metadata": {},
   "source": [
    "# Intro to Creating APIs in the Cloud"
   ]
  },
  {
   "cell_type": "code",
   "execution_count": 23,
   "id": "2d798837",
   "metadata": {},
   "outputs": [],
   "source": [
    "# Dependencies and modules:\n",
    "\n",
    "import pandas as pd\n",
    "import numpy as np\n",
    "import statistics\n",
    "import math\n",
    "import requests\n",
    "import time\n",
    "import matplotlib.pyplot as plt\n",
    "import seaborn as sns\n",
    "import urllib\n",
    "import re\n",
    "from nltk.tokenize import regexp_tokenize"
   ]
  },
  {
   "cell_type": "markdown",
   "id": "dbdac11f",
   "metadata": {},
   "source": [
    "## Warm Up:"
   ]
  },
  {
   "cell_type": "markdown",
   "id": "ee3ec46b",
   "metadata": {},
   "source": [
    "How do you use regex (re library) to write some python code to select all words in a string that contain an apostrophe?\n",
    "\n",
    "Use the following string to test:\n",
    "this_string= “Y’all are amazing, and I’ve loved teaching this class”"
   ]
  },
  {
   "cell_type": "markdown",
   "id": "c0e3419e",
   "metadata": {},
   "source": []
  },
  {
   "cell_type": "code",
   "execution_count": 26,
   "id": "0ad42048",
   "metadata": {},
   "outputs": [
    {
     "data": {
      "text/plain": [
       "[]"
      ]
     },
     "execution_count": 26,
     "metadata": {},
     "output_type": "execute_result"
    }
   ],
   "source": [
    "# Remove the apostrophe with re:\n",
    "\n",
    "this_string = \"Y’all are amazing, and I’ve loved teaching this class\"\n",
    "pattern = r\"\\w+[']\\w+\"\n",
    "selection = regexp_tokenize(this_string, pattern)\n",
    "\n",
    "selection\n"
   ]
  },
  {
   "cell_type": "code",
   "execution_count": 24,
   "id": "86336a10",
   "metadata": {},
   "outputs": [
    {
     "data": {
      "text/plain": [
       "[\"Y'all\", \"I've\"]"
      ]
     },
     "execution_count": 24,
     "metadata": {},
     "output_type": "execute_result"
    }
   ],
   "source": [
    "this_string = \"Y'all are amazing,and I've loved teaching this class\"\n",
    "pattern1 = r\"\\w+[']\\w+\"\n",
    "hashtags = regexp_tokenize(this_string, pattern1)\n",
    "hashtags\n"
   ]
  },
  {
   "cell_type": "code",
   "execution_count": null,
   "id": "b2f6be92",
   "metadata": {},
   "outputs": [],
   "source": []
  },
  {
   "cell_type": "markdown",
   "id": "4addef84",
   "metadata": {},
   "source": [
    "\n",
    "\n",
    "\n",
    "State is just data at any moment in time, specifically, server-side data, i.e. state of a program or application. So, representational state transfer or simply REST is a term for exchanging data"
   ]
  }
 ],
 "metadata": {
  "kernelspec": {
   "display_name": "Python 3 (ipykernel)",
   "language": "python",
   "name": "python3"
  },
  "language_info": {
   "codemirror_mode": {
    "name": "ipython",
    "version": 3
   },
   "file_extension": ".py",
   "mimetype": "text/x-python",
   "name": "python",
   "nbconvert_exporter": "python",
   "pygments_lexer": "ipython3",
   "version": "3.9.7"
  }
 },
 "nbformat": 4,
 "nbformat_minor": 5
}
