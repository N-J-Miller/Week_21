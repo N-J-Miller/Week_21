{
 "cells": [
  {
   "cell_type": "markdown",
   "id": "6cc95fd8",
   "metadata": {},
   "source": [
    "# Week 21 Homework"
   ]
  },
  {
   "cell_type": "markdown",
   "id": "a4bf01d9",
   "metadata": {},
   "source": [
    "## Intro to Creating APIs in the Cloud"
   ]
  },
  {
   "cell_type": "code",
   "execution_count": null,
   "id": "48107194",
   "metadata": {},
   "outputs": [],
   "source": []
  },
  {
   "cell_type": "markdown",
   "id": "3910e5c7",
   "metadata": {},
   "source": [
    "### 1. Create a basic API in Azure (as we did in class) that tells you how to access the different endpoints when you go to the home page. You should have the following endpoints: \n",
    "   \n",
    "    a. A /all endpoint that displays all of the nobel.json data\n",
    "    b. A /<year> GET endpoint that allows for you to pass in any year and shows you the Nobel prizes from that year. No need to create an HTML page for this, but you can if you want.\n",
    "    c. A /add POST endpoint that lets you add additional data\n",
    "        i. You should use a basic HTML form, but you can also pass the data into the API url if you’re feeling ambitious. The latter may require use of a tool called Postman. First, make sure the data from the form is getting passed to python, and then work on appending it to the json file.\n",
    "        ii. Make sure you see your updates when you go to /all\n",
    "\n"
   ]
  },
  {
   "cell_type": "code",
   "execution_count": null,
   "id": "cc991413",
   "metadata": {},
   "outputs": [],
   "source": []
  },
  {
   "cell_type": "markdown",
   "id": "cc252316",
   "metadata": {},
   "source": [
    "### 2. What kind of API did you build? What types of APIs are there? Why are APIs important?"
   ]
  },
  {
   "cell_type": "code",
   "execution_count": null,
   "id": "f71f835c",
   "metadata": {},
   "outputs": [],
   "source": []
  }
 ],
 "metadata": {
  "kernelspec": {
   "display_name": "Python 3 (ipykernel)",
   "language": "python",
   "name": "python3"
  },
  "language_info": {
   "codemirror_mode": {
    "name": "ipython",
    "version": 3
   },
   "file_extension": ".py",
   "mimetype": "text/x-python",
   "name": "python",
   "nbconvert_exporter": "python",
   "pygments_lexer": "ipython3",
   "version": "3.9.7"
  }
 },
 "nbformat": 4,
 "nbformat_minor": 5
}
